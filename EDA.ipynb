{
 "cells": [
  {
   "cell_type": "code",
   "execution_count": 6,
   "metadata": {},
   "outputs": [],
   "source": [
    "import pandas as pd\n",
    "import json\n",
    "file = r'C:\\Users\\Baraa\\Documents\\Python\\Projects\\Steam\\gpucheck\\gpucheck\\gpus.json'\n",
    "with open(file, ) as f:\n",
    "    \n",
    "    data = json.load(f)\n",
    "    "
   ]
  },
  {
   "cell_type": "code",
   "execution_count": 17,
   "metadata": {},
   "outputs": [
    {
     "data": {
      "text/plain": [
       "{'Game_Name': 'Elden Ring',\n",
       " 'Release_Date': '2022',\n",
       " 'Min_FPS': '175',\n",
       " 'Avg_FPS': '194.8'}"
      ]
     },
     "execution_count": 17,
     "metadata": {},
     "output_type": "execute_result"
    }
   ],
   "source": [
    "data[0]['Settings']['ultra']['Resolution']['1920x1080']['Games'][0]"
   ]
  },
  {
   "cell_type": "code",
   "execution_count": null,
   "metadata": {},
   "outputs": [],
   "source": []
  }
 ],
 "metadata": {
  "kernelspec": {
   "display_name": "ML",
   "language": "python",
   "name": "python3"
  },
  "language_info": {
   "codemirror_mode": {
    "name": "ipython",
    "version": 3
   },
   "file_extension": ".py",
   "mimetype": "text/x-python",
   "name": "python",
   "nbconvert_exporter": "python",
   "pygments_lexer": "ipython3",
   "version": "3.9.15 | packaged by conda-forge | (main, Nov 22 2022, 08:39:05) [MSC v.1929 64 bit (AMD64)]"
  },
  "orig_nbformat": 4,
  "vscode": {
   "interpreter": {
    "hash": "e9c1a2de6ec8b1612eccfb36f2ebcfee9ba93fdb307dfe61eddd86ded62528fc"
   }
  }
 },
 "nbformat": 4,
 "nbformat_minor": 2
}
